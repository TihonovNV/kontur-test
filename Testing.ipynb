{
 "cells": [
  {
   "cell_type": "code",
   "execution_count": 11,
   "metadata": {},
   "outputs": [],
   "source": [
    "import numpy as np\n",
    "import pandas as pd\n",
    "\n",
    "MAX_WORD = 69\n",
    "\n",
    "CONSONANTS = 'бвгджзйклмнпрстфхцчшщБВГДЖЗЙКЛМНПРСТФХЦЧШЩ'\n",
    "VOWELS = 'аиоуэыеёюяАИОУЭЫЕЁЮЯ'\n",
    "ALPHABET = 'АБВГДЕЁЖЗИЙКЛМНОПРСТУФХЦЧШЩЪЫЬЭЮЯабвгдеёжзийклмнопрстуфхцчшщъыьэюя'"
   ]
  },
  {
   "cell_type": "code",
   "execution_count": 8,
   "metadata": {},
   "outputs": [],
   "source": [
    "train_companies = open('../kontur_srs_internship_test_task/train.txt', 'r').readlines()\n",
    "train_companies = list(map(lambda s: s.strip(), train_companies))\n",
    "\n",
    "test_companies = open('../kontur_srs_internship_test_task/test.txt', 'r').readlines()\n",
    "test_companies = list(map(lambda s: s.strip(), test_companies))"
   ]
  },
  {
   "cell_type": "markdown",
   "metadata": {},
   "source": [
    "Найдем самое длинное слово (для нормализации), плюс добавим пару функций для генерации фич"
   ]
  },
  {
   "cell_type": "code",
   "execution_count": 9,
   "metadata": {},
   "outputs": [],
   "source": [
    "import nltk\n",
    "from nltk import word_tokenize\n",
    "\n",
    "def has_letters(string):\n",
    "    return any(char in ALPHABET for char in string)\n",
    "\n",
    "def has_not_letters(string):\n",
    "    return any(char not in ALPHABET for char in string)\n",
    "\n",
    "def count_vowels(string):\n",
    "    return len([char for char in string if char in VOWELS])\n",
    "\n",
    "def count_consonants(string):\n",
    "    return len([char for char in string if char in CONSONANTS])\n",
    "\n",
    "def find_max_str(companies):\n",
    "    max_str = ''\n",
    "    for company in companies:\n",
    "        for word in word_tokenize(company):\n",
    "            if(has_letters(word)):\n",
    "                max_str = word if len(max_str) < len(word) else max_str \n",
    "    return max_str\n",
    "\n",
    "def find_index_of_substring(string, companies):\n",
    "    for i in range(len(companies)):\n",
    "        if(companies[i].find(string) != -1):\n",
    "            return i"
   ]
  },
  {
   "cell_type": "code",
   "execution_count": 5,
   "metadata": {},
   "outputs": [
    {
     "data": {
      "text/plain": [
       "'СНАБЖЕНЧЕСКО-СБЫТОВОЙ-ПЕРЕРАБАТЫВАЮЩИЙ-ОБСЛУЖИВАЮЩИЙ-ЖИВОТНОВОДЧЕСКИЙ'"
      ]
     },
     "execution_count": 5,
     "metadata": {},
     "output_type": "execute_result"
    }
   ],
   "source": [
    "test_max_str = find_max_str(test_companies)\n",
    "test_max_str"
   ]
  },
  {
   "cell_type": "code",
   "execution_count": 6,
   "metadata": {},
   "outputs": [
    {
     "data": {
      "text/plain": [
       "'СНАБЖЕНЧЕСКО-СБЫТОВОЙ-ПЕРЕРАБАТЫВАЮЩИЙ-ОБСЛУЖИВАЮЩИЙ-ЖИВОТНОВОДЧЕСКИЙ СЕЛЬСКОХОЗЯЙСТВЕННЫЙ ПОТРЕБИТЕЛЬСКИЙ КООПЕРАТИВ \"СЕЛЯНЕ\" ТАШЛИНСКОГО РАЙОНА ОРЕНБУРГСКОЙ ОБЛАСТИ'"
      ]
     },
     "execution_count": 6,
     "metadata": {},
     "output_type": "execute_result"
    }
   ],
   "source": [
    "test_max_str_index = find_index_of_substring(test_max_str, test_companies)\n",
    "test_companies[test_max_str_index]"
   ]
  },
  {
   "cell_type": "code",
   "execution_count": 7,
   "metadata": {},
   "outputs": [
    {
     "data": {
      "text/plain": [
       "'КотельниковскаOРрайоннаOРорганизациOРВолгоградско9Робластно9Рорганизаци8Робщероссийско9Робщественно9Рорганизаци8'"
      ]
     },
     "execution_count": 7,
     "metadata": {},
     "output_type": "execute_result"
    }
   ],
   "source": [
    "train_max_str = find_max_str(train_companies)\n",
    "train_max_str"
   ]
  },
  {
   "cell_type": "code",
   "execution_count": 9,
   "metadata": {},
   "outputs": [
    {
     "data": {
      "text/plain": [
       "'КотельниковскаOРрайоннаOРорганизациOРВолгоградско9Робластно9Рорганизаци8Робщероссийско9Робщественно9Рорганизаци8 \"Всероссийское общество инвалидов\"'"
      ]
     },
     "execution_count": 9,
     "metadata": {},
     "output_type": "execute_result"
    }
   ],
   "source": [
    "train_max_str_index = find_index_of_substring(train_max_str, train_companies)\n",
    "train_companies[train_max_str_index]"
   ]
  },
  {
   "cell_type": "code",
   "execution_count": 10,
   "metadata": {},
   "outputs": [],
   "source": [
    "del train_companies[train_max_str_index]"
   ]
  },
  {
   "cell_type": "code",
   "execution_count": null,
   "metadata": {},
   "outputs": [],
   "source": [
    "train_max_str = find_max_str(train_companies)\n",
    "train_max_str"
   ]
  },
  {
   "cell_type": "code",
   "execution_count": null,
   "metadata": {},
   "outputs": [],
   "source": [
    "train_max_str_index = find_index_of_substring(train_max_str, train_companies)\n",
    "train_companies[train_max_str_index]"
   ]
  },
  {
   "cell_type": "code",
   "execution_count": null,
   "metadata": {},
   "outputs": [],
   "source": [
    "len(train_max_str)"
   ]
  },
  {
   "cell_type": "markdown",
   "metadata": {},
   "source": [
    "Возможно пригодилось бы для нормализации букв по частоте"
   ]
  },
  {
   "cell_type": "code",
   "execution_count": null,
   "metadata": {},
   "outputs": [],
   "source": [
    "from string import ascii_lowercase\n",
    "from collections import Counter\n",
    "\n",
    "with open('kontur_srs_internship_test_task/train.txt') as f:\n",
    "    print(Counter(letter for line in f \n",
    "                  for letter in line.lower() \n",
    "                  if letter in ALPHABET))"
   ]
  },
  {
   "cell_type": "code",
   "execution_count": 1,
   "metadata": {},
   "outputs": [],
   "source": [
    "import re\n",
    "WORD = re.compile(r'\\w+')\n",
    "def regTokenize(text):\n",
    "    words = WORD.findall(text)\n",
    "    return words"
   ]
  },
  {
   "cell_type": "code",
   "execution_count": 2,
   "metadata": {},
   "outputs": [
    {
     "data": {
      "text/plain": [
       "['СНАБЖЕНЧЕСКО',\n",
       " 'СБЫТОВОЙ',\n",
       " 'ПЕРЕРАБАТЫВАЮЩИЙ',\n",
       " 'ОБСЛУЖИВАЮЩИЙ',\n",
       " 'ЖИВОТНОВОДЧЕСКИЙ',\n",
       " 'СЕЛЬСКОХОЗЯЙСТВЕННЫЙ',\n",
       " 'ПОТРЕБИТЕЛЬСКИЙ',\n",
       " 'КООПЕРАТИВ',\n",
       " 'СЕЛЯНЕ',\n",
       " 'ТАШЛИНСКОГО',\n",
       " 'РАЙОНА',\n",
       " 'ОРЕНБУРГСКОЙ',\n",
       " 'ОБЛАСТИ']"
      ]
     },
     "execution_count": 2,
     "metadata": {},
     "output_type": "execute_result"
    }
   ],
   "source": [
    "regTokenize('СНАБЖЕНЧЕСКО-СБЫТОВОЙ-ПЕРЕРАБАТЫВАЮЩИЙ-ОБСЛУЖИВАЮЩИЙ-ЖИВОТНОВОДЧЕСКИЙ СЕЛЬСКОХОЗЯЙСТВЕННЫЙ ПОТРЕБИТЕЛЬСКИЙ КООПЕРАТИВ \"СЕЛЯНЕ\" ТАШЛИНСКОГО РАЙОНА ОРЕНБУРГСКОЙ ОБЛАСТИ'\n",
    ")"
   ]
  },
  {
   "cell_type": "code",
   "execution_count": 13,
   "metadata": {},
   "outputs": [],
   "source": [
    "def extract_features(company_name, test=False):\n",
    "    \n",
    "    #Длина слова, количество гласных/согласных, положение в слове и есть ли в слове что-то помимо букв\n",
    "    num_of_features = 5\n",
    "    \n",
    "    #3 класса - полностью писменными, первая заглавная или полностью заглавными\n",
    "    num_of_classes = 3\n",
    "\n",
    "    size = 0\n",
    "    for word in word_tokenize(company_name):\n",
    "        if(has_letters(word)):\n",
    "            size += 1\n",
    "            \n",
    "    features = np.zeros((size, num_of_features))\n",
    "    labels = np.zeros(size)\n",
    "    \n",
    "    index = 0\n",
    "    for word in word_tokenize(company_name):\n",
    "        if(has_letters(word)):\n",
    "            print(word)\n",
    "            features[index][0] = index/size\n",
    "            features[index][1] = len(word)/MAX_WORD\n",
    "            features[index][2] = count_consonants(word)/len(word)\n",
    "            features[index][3] = count_vowels(word)/len(word)\n",
    "            features[index][4] = int(has_not_letters(word))\n",
    "            if(word[0].isupper()):\n",
    "                if(word[-1].isupper()):\n",
    "                    labels[index] = 2\n",
    "                else:\n",
    "                    labels[index] = 1\n",
    "            else:\n",
    "                labels[index] = 0\n",
    "            index += 1\n",
    "    if(not test):    \n",
    "        return features, labels\n",
    "    else:\n",
    "        return features"
   ]
  },
  {
   "cell_type": "code",
   "execution_count": 14,
   "metadata": {},
   "outputs": [
    {
     "name": "stdout",
     "output_type": "stream",
     "text": [
      "СНАБЖЕНЧЕСКО-СБЫТОВОЙ-ПЕРЕРАБАТЫВАЮЩИЙ-ОБСЛУЖИВАЮЩИЙ-ЖИВОТНОВОДЧЕСКИЙ\n",
      "СЕЛЬСКОХОЗЯЙСТВЕННЫЙ\n",
      "ПОТРЕБИТЕЛЬСКИЙ\n",
      "КООПЕРАТИВ\n",
      "СЕЛЯНЕ\n",
      "ТАШЛИНСКОГО\n",
      "РАЙОНА\n",
      "ОРЕНБУРГСКОЙ\n",
      "ОБЛАСТИ\n"
     ]
    },
    {
     "data": {
      "text/plain": [
       "(array([[0.        , 1.        , 0.55072464, 0.39130435, 1.        ],\n",
       "        [0.11111111, 0.28985507, 0.65      , 0.3       , 0.        ],\n",
       "        [0.22222222, 0.2173913 , 0.6       , 0.33333333, 0.        ],\n",
       "        [0.33333333, 0.14492754, 0.5       , 0.5       , 0.        ],\n",
       "        [0.44444444, 0.08695652, 0.5       , 0.5       , 0.        ],\n",
       "        [0.55555556, 0.15942029, 0.63636364, 0.36363636, 0.        ],\n",
       "        [0.66666667, 0.08695652, 0.5       , 0.5       , 0.        ],\n",
       "        [0.77777778, 0.17391304, 0.66666667, 0.33333333, 0.        ],\n",
       "        [0.88888889, 0.10144928, 0.57142857, 0.42857143, 0.        ]]),\n",
       " array([2., 2., 2., 2., 2., 2., 2., 2., 2.]))"
      ]
     },
     "execution_count": 14,
     "metadata": {},
     "output_type": "execute_result"
    }
   ],
   "source": [
    "extract_features('СНАБЖЕНЧЕСКО-СБЫТОВОЙ-ПЕРЕРАБАТЫВАЮЩИЙ-ОБСЛУЖИВАЮЩИЙ-ЖИВОТНОВОДЧЕСКИЙ СЕЛЬСКОХОЗЯЙСТВЕННЫЙ ПОТРЕБИТЕЛЬСКИЙ КООПЕРАТИВ \"СЕЛЯНЕ\" ТАШЛИНСКОГО РАЙОНА ОРЕНБУРГСКОЙ ОБЛАСТИ')"
   ]
  },
  {
   "cell_type": "code",
   "execution_count": null,
   "metadata": {},
   "outputs": [],
   "source": []
  }
 ],
 "metadata": {
  "kernelspec": {
   "display_name": "Python 3",
   "language": "python",
   "name": "python3"
  },
  "language_info": {
   "codemirror_mode": {
    "name": "ipython",
    "version": 3
   },
   "file_extension": ".py",
   "mimetype": "text/x-python",
   "name": "python",
   "nbconvert_exporter": "python",
   "pygments_lexer": "ipython3",
   "version": "3.8.5"
  }
 },
 "nbformat": 4,
 "nbformat_minor": 4
}
